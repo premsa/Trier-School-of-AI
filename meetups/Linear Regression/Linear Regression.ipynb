{
 "cells": [
  {
   "cell_type": "markdown",
   "metadata": {},
   "source": [
    "# Machine Learning Fundamentals\n",
    "\n",
    "### tldr:\n",
    " * specify a problem\n",
    " * collect data\n",
    " * select an algorithm to build a model\n",
    " * train model\n",
    " * test mode\n",
    " ________________________\n",
    "### Suprvised Learning \n",
    " * $x_i$ is a feature observation\n",
    " \n",
    " \n",
    " * $y_i$ is a label (category) or target (numeric)\n",
    " \n",
    " \n",
    " * $(x_i, y_i)$ is a data point in the dataset\n",
    " \n",
    " \n",
    " * the dataset is a set of data points: {$(x_i, y_i)$}\n",
    " \n",
    " \n",
    " * Example:"
   ]
  },
  {
   "cell_type": "markdown",
   "metadata": {},
   "source": [
    "| breed (id) | weight (x)| life expectancy (y)|\n",
    "| ---| --- |---|\n",
    "|German Shepard  | 30     | 13 |\n",
    "|St. Bernard  | 60     | 10    |\n",
    "|Chihuahua  | 1      | 20    |\n",
    "|..  | ..      | ..    \n",
    "\n",
    "{'German Shepard': (30, 13),\n",
    " 'St. Bernard': (60, 10),\n",
    " 'Chihuahua': (1, 20)}\n",
    "  ________________________\n",
    " ### Model Representation\n",
    " * **Linear Regression**: Given data point, predict numeric target\n",
    " \n",
    " \n",
    " * Goal: explain variance in $y$ by observing variance in $x$\n",
    " \n",
    " \n",
    " * Approach: estimate a linear relationship between $y$ and $x$\n",
    " \n",
    " \n",
    " * $b$ specifies the bias of the relationship (the y-intercept of the graph)\n",
    " \n",
    " \n",
    " * $m$ specifies the dependency of $y$ to $x$ (the slope of the graph)\n",
    " \n",
    " \n",
    " * $\\hat{y}$ is the predicted target, $y$ is the actual target\n",
    " \n",
    " \n",
    " * $\\hat{y} = b + m*x$ represents a model\n",
    " \n",
    " \n",
    " * $(y_i - \\hat{y}_i)$ describes the loss of the model estimation\n",
    "\n",
    "### Cost Function\n",
    " * each estimation of a pair of parameters can be mapped to a cost\n",
    " \n",
    " \n",
    " * Parameters are learned by observing and reducing the cost \n",
    " \n",
    " \n",
    " * Cost functions measure the global error of the estimation of a model\n",
    " \n",
    " \n",
    " * Goal: select parameters that minimize a cost function\n",
    " \n",
    " \n",
    " * $\\text{MSE} = \\frac{1}{2N}\\sum(y_i - {\\hat{y}}_i)^2$ \n",
    " \n",
    " \n",
    " * $\\text{MSE}(b, m) = \\frac{1}{2N}\\sum(y_i - (b + m*x_i))^2 $"
   ]
  },
  {
   "cell_type": "markdown",
   "metadata": {},
   "source": [
    "### Gradient descent\n",
    "* Gradient descent is an is an optimization algorithm that is used to minimize cost function by iteratively moving in the direction of steepest descent and updating the parameters in each iteration until the algorithm converges (change in cost is below a certain threshold) or the minimum\n",
    "\n",
    "* learning rate $\\lambda$ controls the size of the \"steps\" taken by the gradient in each iteration\n",
    "\n",
    "* threshold $\\epsilon$ specifies when the algorithm converges"
   ]
  },
  {
   "attachments": {},
   "cell_type": "markdown",
   "metadata": {},
   "source": [
    "![example](https://cdn-images-1.medium.com/max/1000/1*UUHvSixG7rX2EfNFTtqBDA.gif)"
   ]
  },
  {
   "cell_type": "markdown",
   "metadata": {},
   "source": [
    "Resource: https://towardsdatascience.com/machine-learning-fundamentals-via-linear-regression-41a5d11f5220"
   ]
  },
  {
   "cell_type": "markdown",
   "metadata": {},
   "source": [
    "![example](https://jed-ai.github.io//images/optimization/opt2/fig1.png)"
   ]
  },
  {
   "cell_type": "markdown",
   "metadata": {},
   "source": [
    "Source: https://jed-ai.github.io/opt2_gradient_descent_1/"
   ]
  },
  {
   "cell_type": "markdown",
   "metadata": {},
   "source": [
    "## Algorithm\n",
    "Partially derive cost function $\\text{MSE}(b, m) = \\frac{1}{2N}\\sum(y_i - (b + m*x_i))^2 $ to find the gradient variation rate of each parameter in isolation\n",
    " \n",
    " 1. Choose initial parameter value $b_0$, $m_0$\n",
    " 2. Choose learning rate $\\lambda$ and threshold $\\epsilon$\n",
    " 3. a) iterate until $\\quad|b_{new} - b_{old}|\\quad+\\quad|m_{new} - m_{old}|\\quad <\\quad\\epsilon$\n",
    "      * $b_{new} = b_{old} - MSE'(b_{old})*\\lambda$\n",
    "      * $m_{new} = m_{old} - MSE'(m_{old})*\\lambda$\n",
    " 4. return final parameter set"
   ]
  },
  {
   "cell_type": "markdown",
   "metadata": {},
   "source": [
    "_________________________\n",
    "#### Partial derivations of the cost function:\n",
    "\n",
    "$\\frac{\\partial }{\\partial m} = \\frac{1}{N}\\sum  -x_i(y_i - (b+m*x_i))$\n",
    "\n",
    "$\\frac{\\partial }{\\partial b} = \\frac{1}{N}\\sum  -(y_i - (b+m*x_i)) = \\frac{1}{N}\\sum (b+m*x_i) - y_i$\n",
    "_________________________"
   ]
  },
  {
   "cell_type": "markdown",
   "metadata": {},
   "source": [
    "![example](https://jed-ai.github.io//images/optimization/opt2/fig2.gif)"
   ]
  },
  {
   "cell_type": "markdown",
   "metadata": {},
   "source": [
    "![example](https://jed-ai.github.io//images/optimization/opt2/fig3.gif)\n",
    "    "
   ]
  },
  {
   "cell_type": "markdown",
   "metadata": {},
   "source": [
    "Source: https://jed-ai.github.io/opt2_gradient_descent_1/"
   ]
  },
  {
   "cell_type": "markdown",
   "metadata": {},
   "source": [
    "\n"
   ]
  },
  {
   "cell_type": "code",
   "execution_count": 3,
   "metadata": {},
   "outputs": [],
   "source": [
    "import pandas as pd\n",
    "import numpy as np\n",
    "import matplotlib.pyplot as plt\n",
    "%matplotlib inline"
   ]
  },
  {
   "cell_type": "code",
   "execution_count": 6,
   "metadata": {},
   "outputs": [],
   "source": [
    "def gradient_descent(x, y, learningrate, epochs):\n",
    "    N = float(len(y))\n",
    "    m = 1 \n",
    "    b = 1 \n",
    "    costs = []\n",
    "    for i in range(epochs):\n",
    "        # predict y_hat which approxiamtion of y\n",
    "        y_hat = b + x*m\n",
    "        \n",
    "        # current costs\n",
    "        current_cost = 1/(2*N) * np.sum((y - y_hat)**2); \n",
    "        costs.append(current_cost)\n",
    "        \n",
    "        # compute new parameters\n",
    "        m = m - ((1/N) * np.sum(-x*(y - y_hat)) * learningrate)\n",
    "        b = b - ((1/N) * np.sum(y_hat - y) * learningrate)\n",
    "\n",
    "    return m, b, np.array(costs)"
   ]
  },
  {
   "cell_type": "code",
   "execution_count": 38,
   "metadata": {},
   "outputs": [
    {
     "data": {
      "image/png": "[encoded data removed]",
      "text/plain": [
       "<Figure size 432x288 with 1 Axes>"
      ]
     },
     "metadata": {},
     "output_type": "display_data"
    }
   ],
   "source": [
    "np.random.seed(69)\n",
    "counts = 40\n",
    "X = np.arange(counts)\n",
    "y = X*2 + counts*np.random.random_sample(len(X)) + counts/2\n",
    "\n",
    "plt.scatter(X, y)\n",
    "plt.show()"
   ]
  },
  {
   "cell_type": "code",
   "execution_count": 39,
   "metadata": {},
   "outputs": [
    {
     "data": {
      "image/png": "[encoded data removed]",
      "text/plain": [
       "<Figure size 432x288 with 1 Axes>"
      ]
     },
     "metadata": {},
     "output_type": "display_data"
    },
    {
     "name": "stdout",
     "output_type": "stream",
     "text": [
      "y = 36.181487863086616 + 2.059337096635761 * x\n"
     ]
    }
   ],
   "source": [
    "m, b, costs = gradient_descent(X, y, 0.001, 10000)\n",
    "\n",
    "plt.scatter(X, y)\n",
    "plt.plot(X, (b+m*X), color =\"red\")\n",
    "plt.show()\n",
    "print(\"y = {} + {} * x\".format(b, m))"
   ]
  },
  {
   "cell_type": "code",
   "execution_count": 40,
   "metadata": {},
   "outputs": [
    {
     "data": {
      "image/png": "[encoded data removed]",
      "text/plain": [
       "<Figure size 432x288 with 1 Axes>"
      ]
     },
     "metadata": {},
     "output_type": "display_data"
    },
    {
     "name": "stdout",
     "output_type": "stream",
     "text": [
      "y = [39.02277703] + [[1.95138557]] * x\n"
     ]
    }
   ],
   "source": [
    "from sklearn.linear_model import LinearRegression\n",
    "X = X.reshape(-1, 1)\n",
    "y = y.reshape(-1, 1)\n",
    "\n",
    "reg = LinearRegression().fit(X, y)\n",
    "reg.score(X, y)\n",
    "m2 = reg.coef_\n",
    "b2 = reg.intercept_\n",
    "plt.scatter(X, y)\n",
    "plt.plot(X, (b2+m2*X), color=\"green\")\n",
    "plt.show()\n",
    "print(\"y = {} + {} * x\".format(b2, m2))"
   ]
  },
  {
   "cell_type": "code",
   "execution_count": null,
   "metadata": {},
   "outputs": [],
   "source": []
  },
  {
   "cell_type": "code",
   "execution_count": null,
   "metadata": {},
   "outputs": [],
   "source": []
  }
 ],
 "metadata": {
  "kernelspec": {
   "display_name": "Python 3",
   "language": "python",
   "name": "python3"
  },
  "language_info": {
   "codemirror_mode": {
    "name": "ipython",
    "version": 3
   },
   "file_extension": ".py",
   "mimetype": "text/x-python",
   "name": "python",
   "nbconvert_exporter": "python",
   "pygments_lexer": "ipython3",
   "version": "3.6.4"
  }
 },
 "nbformat": 4,
 "nbformat_minor": 2
}
